{
 "cells": [
  {
   "cell_type": "code",
   "execution_count": 1,
   "metadata": {
    "collapsed": false,
    "slideshow": {
     "slide_type": "slide"
    }
   },
   "outputs": [],
   "source": [
    "from __future__ import division\n",
    "import sys\n",
    "import numpy as np\n",
    "import matplotlib.pyplot as plt\n",
    "\n",
    "sys.path.append('/Users/rjoy/GitHub/PyProcess/pyprocess/')\n",
    "sys.path.append('/Users/rjoy/GitHub/pybisp/')\n",
    "\n",
    "import pybisp as pb\n",
    "import pyprocess as pp"
   ]
  },
  {
   "cell_type": "code",
   "execution_count": 2,
   "metadata": {
    "collapsed": false,
    "slideshow": {
     "slide_type": "slide"
    }
   },
   "outputs": [],
   "source": [
    "# generating a stochastic process\n",
    "bm = pp.Wiener_process(mu = 0, sigma = 1)  # Brownian motion\n",
    "t = np.linspace(0, 1, 1000)                # sample times\n",
    "x = wp.sample_path(t)                      # generate a realization \n",
    "wp.plot(t)                                 # plot the realization"
   ]
  },
  {
   "cell_type": "code",
   "execution_count": null,
   "metadata": {
    "collapsed": false,
    "slideshow": {
     "slide_type": "slide"
    }
   },
   "outputs": [],
   "source": [
    "data = [t, x]                              # trajectory as (t, x) pairs\n",
    "bmi = pb.WienerProcess(data)               # inference for a Wiener process\n",
    "bmi.SetPrior('uninformative')              # set the prior\n",
    "bmi.LogProb(theta)                         # log of the posterior probability at theta\n",
    "bmi.MapEstimate(method = 'exact')          # exact maximum a posteriori estimates\n",
    "bmi.MapEstimate(method = 'bcfg')           # numerical minimization"
   ]
  }
 ],
 "metadata": {
  "celltoolbar": "Edit Metadata",
  "kernelspec": {
   "display_name": "Python 2",
   "language": "python",
   "name": "python2"
  },
  "language_info": {
   "codemirror_mode": {
    "name": "ipython",
    "version": 2
   },
   "file_extension": ".py",
   "mimetype": "text/x-python",
   "name": "python",
   "nbconvert_exporter": "python",
   "pygments_lexer": "ipython2",
   "version": "2.7.9"
  }
 },
 "nbformat": 4,
 "nbformat_minor": 0
}
