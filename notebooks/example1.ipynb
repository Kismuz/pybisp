{
 "metadata": {
  "name": "",
  "signature": "sha256:8a33e75d6b06a1c16f8187b9028bd18721e4f7bc0a58b3e59b8c118aba68a468"
 },
 "nbformat": 3,
 "nbformat_minor": 0,
 "worksheets": [
  {
   "cells": [
    {
     "cell_type": "code",
     "collapsed": false,
     "input": [
      "from __future__ import division\n",
      "import numpy as np\n",
      "import matplotlib.pyplot as plt\n",
      "import sys\n",
      "sys.path.append('..')\n",
      "import pybisp as pb"
     ],
     "language": "python",
     "metadata": {},
     "outputs": [],
     "prompt_number": 7
    },
    {
     "cell_type": "code",
     "collapsed": false,
     "input": [
      "N = 64    # number of data points\n",
      "x = np.random.random(N)\n",
      "t = np.arange(N)\n",
      "data = np.zeros((N,2))\n",
      "\n",
      "data[:, 0] = t\n",
      "data[:, 1] = x"
     ],
     "language": "python",
     "metadata": {},
     "outputs": [],
     "prompt_number": 8
    },
    {
     "cell_type": "code",
     "collapsed": false,
     "input": [
      "# instantiating the class and calcuating the logProb\n",
      "inference = pb.WienerProcess(data) # inference assuming data to be a Wiener process\n",
      "p = inference.logProb(2.0)\n"
     ],
     "language": "python",
     "metadata": {},
     "outputs": [],
     "prompt_number": 9
    },
    {
     "cell_type": "code",
     "collapsed": false,
     "input": [
      "## plotting logProb as a function of theta\n",
      "%matplotlib inline\n",
      "thetaExtent = np.linspace(2, 10, 32)\n",
      "inference.plotLogProb(thetaExtent)"
     ],
     "language": "python",
     "metadata": {},
     "outputs": [
      {
       "metadata": {},
       "output_type": "display_data",
       "png": "[encoded data removed]",
       "text": [
        "<matplotlib.figure.Figure at 0x7fb3e48a6690>"
       ]
      }
     ],
     "prompt_number": 10
    },
    {
     "cell_type": "code",
     "collapsed": false,
     "input": [],
     "language": "python",
     "metadata": {},
     "outputs": [],
     "prompt_number": 10
    },
    {
     "cell_type": "code",
     "collapsed": false,
     "input": [],
     "language": "python",
     "metadata": {},
     "outputs": [],
     "prompt_number": 4
    },
    {
     "cell_type": "code",
     "collapsed": false,
     "input": [],
     "language": "python",
     "metadata": {},
     "outputs": []
    }
   ],
   "metadata": {}
  }
 ]
}