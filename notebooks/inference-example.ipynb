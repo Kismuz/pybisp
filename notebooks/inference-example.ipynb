{
 "metadata": {
  "name": "",
  "signature": "sha256:7376ad030184f269b28f2801231ed8b4242ccf174933a49b9794e404a06de09f"
 },
 "nbformat": 3,
 "nbformat_minor": 0,
 "worksheets": [
  {
   "cells": [
    {
     "cell_type": "code",
     "collapsed": false,
     "input": [
      "from __future__ import division\n",
      "import sys\n",
      "import numpy as np\n",
      "import matplotlib.pyplot as plt\n",
      "\n",
      "sys.path.append('/Users/rjoy/GitHub/PyProcess/pyprocess/')\n",
      "sys.path.append('/Users/rjoy/GitHub/pybisp/')\n",
      "\n",
      "import pybisp as pb\n",
      "import pyprocess as pp"
     ],
     "language": "python",
     "metadata": {},
     "outputs": [],
     "prompt_number": 1
    },
    {
     "cell_type": "code",
     "collapsed": false,
     "input": [
      "# generating a stochastic process\n",
      "bm = pp.Wiener_process(mu = 0, sigma = 1)  # Brownian motion\n",
      "t = np.linspace(0, 1, 1000)                # sample times\n",
      "x = wp.sample_path(t)                      # generate a realization \n",
      "wp.plot(t)                                 # plot the realization"
     ],
     "language": "python",
     "metadata": {},
     "outputs": [],
     "prompt_number": 2
    },
    {
     "cell_type": "code",
     "collapsed": false,
     "input": [
      "data = [t, x]                              # trajectory as (t, x) pairs\n",
      "bmi = pb.WienerProcess(data)               # inference for a Wiener process\n",
      "bmi.SetPrior('uninformative')              # set the prior\n",
      "bmi.LogProb(theta)                         # log of the posterior probability at theta\n",
      "bmi.MapEstimate(method = 'exact')          # exact maximum a posteriori estimates\n",
      "bmi.MapEstimate(method = 'bcfg')           # numerical minimization"
     ],
     "language": "python",
     "metadata": {},
     "outputs": []
    }
   ],
   "metadata": {}
  }
 ]
}