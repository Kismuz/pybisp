{
 "metadata": {
  "name": "",
  "signature": "sha256:2df2bcad4711c29d634e96a425e4db7df445fad1edbc062a67ccdaedf1ae30ee"
 },
 "nbformat": 3,
 "nbformat_minor": 0,
 "worksheets": [
  {
   "cells": [
    {
     "cell_type": "code",
     "collapsed": false,
     "input": [
      "from __future__ import division\n",
      "\n",
      "import numpy as np\n",
      "import logprob\n",
      "import matplotlib.pyplot as plt\n"
     ],
     "language": "python",
     "metadata": {},
     "outputs": [],
     "prompt_number": 2
    },
    {
     "cell_type": "code",
     "collapsed": false,
     "input": [
      "N = 1024                          # number of sampling points \n",
      "t = np.arange(N)                  # sampling times\n",
      "dw = np.random.randn(N)           # Wiener increments\n",
      "x = np.cumsum(dw)                 # x is a Wiener path\n",
      "\n",
      "# compute increments\n",
      "dx2 = sum((x[1:] - x[:-1])**2)\n",
      "dt = t[1] - t[0]\n",
      "\n",
      "D = np.linspace(0.5,1.5, 1024)\n",
      "\n",
      "plt.plot(D, logprob.wiener(D, dx2, dt, N),'-',lw=1)\n",
      "\n",
      "plt.xlabel('D')\n",
      "plt.ylabel('log P(D)')\n",
      "plt.grid('on')\n",
      "\n",
      "print dx2/(N*dt)"
     ],
     "language": "python",
     "metadata": {},
     "outputs": [
      {
       "output_type": "stream",
       "stream": "stdout",
       "text": [
        "0.972324089752\n"
       ]
      },
      {
       "metadata": {},
       "output_type": "display_data",
       "png": "[encoded data removed]",
       "text": [
        "<matplotlib.figure.Figure at 0x105b5d710>"
       ]
      }
     ],
     "prompt_number": 3
    },
    {
     "cell_type": "code",
     "collapsed": false,
     "input": [
      "# Measure of reliability or error bar\n",
      "d = (dx2/(N*dt)) / np.sqrt((N-2)+(dx2/dt))\n",
      "print d"
     ],
     "language": "python",
     "metadata": {},
     "outputs": [
      {
       "output_type": "stream",
       "stream": "stdout",
       "text": [
        "0.0188762126115\n"
       ]
      }
     ],
     "prompt_number": 3
    },
    {
     "cell_type": "code",
     "collapsed": false,
     "input": [
      "d1 = dx2/(N*dt) + d\n",
      "print d1"
     ],
     "language": "python",
     "metadata": {},
     "outputs": [
      {
       "output_type": "stream",
       "stream": "stdout",
       "text": [
        "0.9640618076\n"
       ]
      }
     ],
     "prompt_number": 4
    },
    {
     "cell_type": "code",
     "collapsed": false,
     "input": [
      "d1 = dx2/(N*dt) - d\n",
      "print d1"
     ],
     "language": "python",
     "metadata": {},
     "outputs": [
      {
       "output_type": "stream",
       "stream": "stdout",
       "text": [
        "0.926309382377\n"
       ]
      }
     ],
     "prompt_number": 5
    },
    {
     "cell_type": "code",
     "collapsed": false,
     "input": [],
     "language": "python",
     "metadata": {},
     "outputs": [],
     "prompt_number": 5
    }
   ],
   "metadata": {}
  }
 ]
}