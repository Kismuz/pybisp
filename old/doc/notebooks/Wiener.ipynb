{
 "metadata": {
  "name": "",
  "signature": "sha256:be057f0284ab0baf40f633468c15c6e14c973d8c5aab15a288c14fca4e532375"
 },
 "nbformat": 3,
 "nbformat_minor": 0,
 "worksheets": [
  {
   "cells": [
    {
     "cell_type": "code",
     "collapsed": false,
     "input": [
      "import numpy as np\n",
      "import matplotlib as mpl\n",
      "import matplotlib.pyplot as plt\n",
      "import pylab as pl\n",
      "from __future__ import division"
     ],
     "language": "python",
     "metadata": {},
     "outputs": [],
     "prompt_number": 1
    },
    {
     "cell_type": "code",
     "collapsed": false,
     "input": [
      "def logprob(D, dx2, dt, N):\n",
      "    return -dx2/(2*D*dt) - np.log(D) -0.5*(N-1)*np.log(2*D*np.pi*(dt))\n",
      "            \n",
      "N = 1025\n",
      "t = np.arange(N)                  # sampling times\n",
      "dw = np.random.randn(N)           # Wiener increments\n",
      "x = np.cumsum(dw)                 # x is a sample path\n",
      "\n",
      "# compute increments\n",
      "dx2 = sum((x[1:] - x[:-1])**2)\n",
      "dt = t[1] - t[0]\n",
      "\n",
      "D = np.linspace(0.5,1.5, 1024)\n",
      "\n",
      "plt.plot(D, logprob(D, dx2, dt, N),'-',lw=1)\n",
      "\n",
      "plt.xlabel('D')\n",
      "plt.ylabel('log P(D)')\n",
      "plt.grid('on')\n",
      "\n",
      "print dx2/(N*dt)"
     ],
     "language": "python",
     "metadata": {},
     "outputs": [
      {
       "output_type": "stream",
       "stream": "stdout",
       "text": [
        "1.01624554973\n"
       ]
      },
      {
       "metadata": {},
       "output_type": "display_data",
       "png": "[encoded data removed]",
       "text": [
        "<matplotlib.figure.Figure at 0x10691f050>"
       ]
      }
     ],
     "prompt_number": 8
    },
    {
     "cell_type": "code",
     "collapsed": false,
     "input": [
      "# Measure of reliability or error bar\n",
      "d = (dx2/(N*dt)) / np.sqrt((N-2)+(dx2/dt))\n",
      "print d"
     ],
     "language": "python",
     "metadata": {},
     "outputs": [
      {
       "output_type": "stream",
       "stream": "stdout",
       "text": [
        "0.0188762126115\n"
       ]
      }
     ],
     "prompt_number": 3
    },
    {
     "cell_type": "code",
     "collapsed": false,
     "input": [
      "d1 = dx2/(N*dt) + d\n",
      "print d1"
     ],
     "language": "python",
     "metadata": {},
     "outputs": [
      {
       "output_type": "stream",
       "stream": "stdout",
       "text": [
        "0.9640618076\n"
       ]
      }
     ],
     "prompt_number": 4
    },
    {
     "cell_type": "code",
     "collapsed": false,
     "input": [
      "d1 = dx2/(N*dt) - d\n",
      "print d1"
     ],
     "language": "python",
     "metadata": {},
     "outputs": [
      {
       "output_type": "stream",
       "stream": "stdout",
       "text": [
        "0.926309382377\n"
       ]
      }
     ],
     "prompt_number": 5
    },
    {
     "cell_type": "code",
     "collapsed": false,
     "input": [],
     "language": "python",
     "metadata": {},
     "outputs": [],
     "prompt_number": 5
    }
   ],
   "metadata": {}
  }
 ]
}