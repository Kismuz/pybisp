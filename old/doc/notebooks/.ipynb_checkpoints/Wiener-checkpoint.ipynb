{
 "metadata": {
  "name": "",
  "signature": "sha256:d8505ac9991a067087ff9b79208a718c247ca1b7d1f7ef494a7b7d7661c9d661"
 },
 "nbformat": 3,
 "nbformat_minor": 0,
 "worksheets": [
  {
   "cells": [
    {
     "cell_type": "code",
     "collapsed": false,
     "input": [
      "import numpy as np\n",
      "import matplotlib as mpl\n",
      "import matplotlib.pyplot as plt\n",
      "import pylab as pl\n",
      "from __future__ import division"
     ],
     "language": "python",
     "metadata": {},
     "outputs": [],
     "prompt_number": 1
    },
    {
     "cell_type": "code",
     "collapsed": false,
     "input": [
      "def logprob(D, dx2, dt, N):\n",
      "    return -dx2/(2*D*dt) - np.log(D) -0.5*(N-1)*np.log(2*D*np.pi*(dt))\n",
      "            \n",
      "N = 1290\n",
      "t = np.arange(N)                  # sampling times\n",
      "dw = np.random.randn(N)        # Wiener increments\n",
      "x = np.cumsum(dw)\n",
      "\n",
      "\n",
      "dx2 = sum((x[1:] - x[:-1])**2)\n",
      "dt = t[1] - t[0]\n",
      "\n",
      "\n",
      "D = np.linspace(0.8,1.2, 1028)\n",
      "#D = np.linspace(0.8,1.2, 1024)\n",
      "\n",
      "\n",
      "plt.plot(D, logprob(D, dx2, dt, N),'-',lw=1)\n",
      "\n",
      "\n",
      "plt.xlabel('D')\n",
      "plt.ylabel('P(D)')\n",
      "plt.grid('on')\n",
      "\n",
      "print dx2/(N*dt)"
     ],
     "language": "python",
     "metadata": {},
     "outputs": [
      {
       "output_type": "stream",
       "stream": "stdout",
       "text": [
        "0.989957155241\n"
       ]
      }
     ],
     "prompt_number": 5
    },
    {
     "cell_type": "code",
     "collapsed": false,
     "input": [
      "# Measure of reliability or Error bar\n",
      "d = (dx2/(N*dt)) / np.sqrt((N-2)+(dx2/dt))\n",
      "print d"
     ],
     "language": "python",
     "metadata": {},
     "outputs": [
      {
       "output_type": "stream",
       "stream": "stdout",
       "text": [
        "0.0195464965659\n"
       ]
      }
     ],
     "prompt_number": 6
    },
    {
     "cell_type": "code",
     "collapsed": false,
     "input": [
      "d1 = dx2/(N*dt) + d\n",
      "print d1"
     ],
     "language": "python",
     "metadata": {},
     "outputs": [
      {
       "output_type": "stream",
       "stream": "stdout",
       "text": [
        "1.00950365181\n"
       ]
      }
     ],
     "prompt_number": 7
    },
    {
     "cell_type": "code",
     "collapsed": false,
     "input": [
      "d1 = dx2/(N*dt) - d\n",
      "print d1"
     ],
     "language": "python",
     "metadata": {},
     "outputs": [
      {
       "output_type": "stream",
       "stream": "stdout",
       "text": [
        "0.970410658675\n"
       ]
      }
     ],
     "prompt_number": 8
    },
    {
     "cell_type": "code",
     "collapsed": false,
     "input": [],
     "language": "python",
     "metadata": {},
     "outputs": []
    }
   ],
   "metadata": {}
  }
 ]
}