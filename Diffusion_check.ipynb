{
 "metadata": {
  "name": "",
  "signature": "sha256:50030986094c33930789f8ef4c593b27028dcd7d8edca6f1feb4830d7944bfb9"
 },
 "nbformat": 3,
 "nbformat_minor": 0,
 "worksheets": [
  {
   "cells": [
    {
     "cell_type": "code",
     "collapsed": false,
     "input": [
      "from __future__ import division\n",
      "import numpy as np\n",
      "import matplotlib.pyplot as plt\n",
      "import sys\n",
      "sys.path.append('..')\n",
      "import pybisp as pb\n",
      "import pandas as pd\n",
      "from numpy import *\n",
      "import pyprocess as pr"
     ],
     "language": "python",
     "metadata": {},
     "outputs": [],
     "prompt_number": 1
    },
    {
     "cell_type": "code",
     "collapsed": false,
     "input": [
      "bm = pr.OU_process(2000,0,2000,startTime = 0, startPosition = 0, endPosition = None, endTime = None)\n",
      "tBegin=0\n",
      "tEnd=0.5\n",
      "Dt=2.5e-5\n",
      "t = np.arange(tBegin, tEnd, Dt)\n",
      "mu100sigma100=bm.sample_path (t , N = 1)\n",
      "#print np.shape(np.transpose(mu100sigma100))\n",
      "#print np.shape(t)\n",
      "data =np.array([np.transpose(mu100sigma100),(t)])\n",
      "data = np.transpose(data)\n",
      "print data\n",
      "print np.shape(data)\n",
      "np.savetxt('mu1000sigma1000.txt', data, delimiter=\" \") "
     ],
     "language": "python",
     "metadata": {},
     "outputs": [
      {
       "output_type": "stream",
       "stream": "stdout",
       "text": [
        "[[array([ 0.]) 0.0]\n",
        " [array([-6.56013417]) 2.5000000000000001e-05]\n",
        " [array([-14.32014317]) 5.0000000000000002e-05]\n",
        " ..., \n",
        " [array([-27.85073371]) 0.49992500000000001]\n",
        " [array([-28.71041257]) 0.49995000000000001]\n",
        " [array([-18.62251189]) 0.499975]]\n",
        "(20000, 2)\n"
       ]
      }
     ],
     "prompt_number": 2
    },
    {
     "cell_type": "code",
     "collapsed": false,
     "input": [
      "data1 = loadtxt(\"mu1000sigma1000.txt\") \n",
      "#data2 = loadtxt(\"output.txt\")\n",
      "#print np.shape(data2)"
     ],
     "language": "python",
     "metadata": {},
     "outputs": [],
     "prompt_number": 3
    },
    {
     "cell_type": "code",
     "collapsed": false,
     "input": [
      "## plotting logProb as a function of theta\n",
      "%matplotlib inline\n",
      "#input D1 = 0.025\n",
      "#input gamma = 0.0785\n",
      "mu = np.linspace(1900,2100,100)\n",
      "sigma = np.linspace(1900,2100,100)\n",
      "#print sigma\n",
      "extent =np.array([(mu),(sigma)])\n",
      "thetaExtent =np.array([(mu),(sigma)])\n",
      "thetaExtent=np.transpose(thetaExtent)\n",
      "#print np.shape(thetaExtent)\n",
      "inference = pb.OrnsteinUhlenbeckProcess(data1)\n",
      "#print np.shape(inference)\n",
      "inference.plotLogProb(thetaExtent)\n",
      "#print 12"
     ],
     "language": "python",
     "metadata": {},
     "outputs": [
      {
       "metadata": {},
       "output_type": "display_data",
       "png": "[encoded data removed]",
       "text": [
        "<matplotlib.figure.Figure at 0x1b693d0>"
       ]
      },
      {
       "output_type": "stream",
       "stream": "stdout",
       "text": [
        "[25] [44]\n"
       ]
      }
     ],
     "prompt_number": 5
    },
    {
     "cell_type": "code",
     "collapsed": false,
     "input": [],
     "language": "python",
     "metadata": {},
     "outputs": []
    }
   ],
   "metadata": {}
  }
 ]
}